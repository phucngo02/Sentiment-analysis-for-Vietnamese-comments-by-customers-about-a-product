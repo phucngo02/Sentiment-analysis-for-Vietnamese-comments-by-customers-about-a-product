{
  "cells": [
    {
      "cell_type": "markdown",
      "metadata": {
        "id": "W24zc0eU6-Mn"
      },
      "source": [
        "# Cài đặt thư viện"
      ]
    },
    {
      "cell_type": "code",
      "execution_count": null,
      "metadata": {
        "id": "0J8GQrKDttK6"
      },
      "outputs": [],
      "source": [
        "%%capture\n",
        "!pip install datasets\n",
        "!pip install evaluate\n",
        "!pip install rouge_score\n",
        "!pip install protobuf\n",
        "!pip install nltk\n",
        "!pip install py7zr\n",
        "!pip install accelerate\n",
        "!pip install torch\n",
        "!pip install sentencepiece\n",
        "!pip install scipy"
      ]
    },
    {
      "cell_type": "code",
      "execution_count": null,
      "metadata": {
        "id": "4Q8_wzm-uCfI"
      },
      "outputs": [],
      "source": [
        "from google.colab import drive\n",
        "drive.mount('/content/drive')"
      ]
    },
    {
      "cell_type": "code",
      "execution_count": null,
      "metadata": {
        "id": "E5ae1_0yuNQ8"
      },
      "outputs": [],
      "source": [
        "%%capture\n",
        "# Tải code và cài thư viện transformer\n",
        "\n",
        "# Tải code\n",
        "%cd /content\n",
        "!git clone https://github.com/huggingface/transformers\n",
        "\n",
        "# Cài thư viện transformer\n",
        "%cd transformers\n",
        "!pip install .\n"
      ]
    },
    {
      "cell_type": "code",
      "execution_count": null,
      "metadata": {
        "id": "bTf4-eP97t-A"
      },
      "outputs": [],
      "source": [
        "import pandas as pd\n",
        "import numpy as np\n",
        "from sklearn.metrics import classification_report, confusion_matrix\n",
        "import matplotlib.pyplot as plt\n",
        "import seaborn as sns"
      ]
    },
    {
      "cell_type": "code",
      "execution_count": null,
      "metadata": {
        "id": "4elQ8HtdulFM"
      },
      "outputs": [],
      "source": [
        "!python /content/transformers/examples/pytorch/text-classification/run_glue.py  \\\n",
        "    --help"
      ]
    },
    {
      "cell_type": "code",
      "execution_count": null,
      "metadata": {
        "id": "KCrP5JTd7wA5"
      },
      "outputs": [],
      "source": [
        "def test_evaluate(predict_path, test_path = \"/content/drive/MyDrive/IE403/Model/Tranformer/dataset/test.csv\"):\n",
        "    test = pd.read_csv(test_path)\n",
        "    test_predict = []\n",
        "    with open(predict_path) as f:\n",
        "        for line in f:\n",
        "          test_predict.append(line.replace(\"\\n\", \"\").replace(\"\\t\", \" \"))\n",
        "    prediction_list = [int(element.split()[1]) for element in test_predict[1:]]\n",
        "    print(classification_report(y_true=test[\"label\"], y_pred=prediction_list, digits = 4))\n",
        "    plt.figure(figsize = (6,4))\n",
        "    sns.set(font_scale=1) # for label size\n",
        "    sns.heatmap(confusion_matrix(y_true=test[\"label\"], y_pred=prediction_list), annot=True, fmt=\"d\", cmap=\"Blues\")"
      ]
    },
    {
      "cell_type": "code",
      "execution_count": null,
      "metadata": {
        "id": "ZIu875jXYjkv"
      },
      "outputs": [],
      "source": [
        "%cd /"
      ]
    },
    {
      "cell_type": "markdown",
      "metadata": {
        "id": "FLeT2aad7KNJ"
      },
      "source": [
        "# XLM-R LARGE"
      ]
    },
    {
      "cell_type": "code",
      "execution_count": null,
      "metadata": {
        "id": "nvfKMe9Cg1mo"
      },
      "outputs": [],
      "source": [
        "!python ./content/transformers/examples/pytorch/text-classification/run_glue.py \\\n",
        "  --model_name_or_path xlm-roberta-large \\\n",
        "  --do_train \\\n",
        "  --do_eval \\\n",
        "  --do_predict \\\n",
        "  --max_seq_length 100 \\\n",
        "  --per_device_train_batch_size 16 \\\n",
        "  --num_train_epochs 5 \\\n",
        "  --learning_rate 5e-6 \\\n",
        "  --output_dir \"/content/drive/MyDrive/IE403/Model/Tranformer/XLM-R-Large\" \\\n",
        "  --train_file \"/content/drive/MyDrive/IE403/Model/Tranformer/dataset/train.csv\" \\\n",
        "  --validation_file \"/content/drive/MyDrive/IE403/Model/Tranformer/dataset/dev.csv\" \\\n",
        "  --test_file \"/content/drive/MyDrive/IE403/Model/Tranformer/dataset/test.csv\" \\\n",
        "  --overwrite_output_dir \\\n",
        "  --overwrite_cache \\\n",
        "  --fp16 True \\\n",
        "  --warmup_ratio 0.1 \\\n",
        "  --logging_steps 50"
      ]
    },
    {
      "cell_type": "code",
      "execution_count": null,
      "metadata": {
        "id": "j6RlzVe_8JRM"
      },
      "outputs": [],
      "source": [
        "predict_path = \"/content/drive/MyDrive/IE403/Model/Tranformer/XLM-R-Large/predict_results_None.txt\"\n",
        "test_evaluate(predict_path)"
      ]
    },
    {
      "cell_type": "markdown",
      "source": [
        "#XLM-R-base"
      ],
      "metadata": {
        "id": "-Sz5pOKQPT57"
      }
    },
    {
      "cell_type": "code",
      "source": [
        "!python ./content/transformers/examples/pytorch/text-classification/run_glue.py \\\n",
        "  --model_name_or_path xlm-roberta-base \\\n",
        "  --do_train \\\n",
        "  --do_eval \\\n",
        "  --do_predict \\\n",
        "  --max_seq_length 100 \\\n",
        "  --per_device_train_batch_size 16 \\\n",
        "  --num_train_epochs 5 \\\n",
        "  --learning_rate 5e-6 \\\n",
        "  --output_dir \"/content/drive/MyDrive/IE403/Model/Tranformer/XLM-R-base\" \\\n",
        "  --train_file \"/content/drive/MyDrive/IE403/Model/Tranformer/dataset/train.csv\" \\\n",
        "  --validation_file \"/content/drive/MyDrive/IE403/Model/Tranformer/dataset/dev.csv\" \\\n",
        "  --test_file \"/content/drive/MyDrive/IE403/Model/Tranformer/dataset/test.csv\" \\\n",
        "  --overwrite_output_dir \\\n",
        "  --overwrite_cache \\\n",
        "  --fp16 True \\\n",
        "  --warmup_ratio 0.1 \\\n",
        "  --logging_steps 50"
      ],
      "metadata": {
        "id": "J9UnPs-xPO2c"
      },
      "execution_count": null,
      "outputs": []
    },
    {
      "cell_type": "code",
      "source": [
        "predict_path1 = \"/content/drive/MyDrive/IE403/Model/Tranformer/XLM-R-base/predict_results_None.txt\"\n",
        "test_evaluate(predict_path1)"
      ],
      "metadata": {
        "id": "9MW9RmDhb8cB"
      },
      "execution_count": null,
      "outputs": []
    },
    {
      "cell_type": "markdown",
      "source": [
        "#BERT-uncase (*tăng learning rate*)"
      ],
      "metadata": {
        "id": "YhbUjotGcU7I"
      }
    },
    {
      "cell_type": "code",
      "source": [
        "!python ./content/transformers/examples/pytorch/text-classification/run_glue.py \\\n",
        "  --model_name_or_path bert-base-uncased \\\n",
        "  --do_train \\\n",
        "  --do_eval \\\n",
        "  --do_predict \\\n",
        "  --max_seq_length 100 \\\n",
        "  --per_device_train_batch_size 16 \\\n",
        "  --num_train_epochs 5 \\\n",
        "  --learning_rate 5e-5 \\\n",
        "  --output_dir \"/content/drive/MyDrive/IE403/Model/Tranformer/BERT-base-uncased_upLR\" \\\n",
        "  --train_file \"/content/drive/MyDrive/IE403/Model/Tranformer/dataset/train.csv\" \\\n",
        "  --validation_file \"/content/drive/MyDrive/IE403/Model/Tranformer/dataset/dev.csv\" \\\n",
        "  --test_file \"/content/drive/MyDrive/IE403/Model/Tranformer/dataset/test.csv\" \\\n",
        "  --overwrite_output_dir \\\n",
        "  --overwrite_cache \\\n",
        "  --fp16 True \\\n",
        "  --warmup_ratio 0.1 \\\n",
        "  --logging_steps 50"
      ],
      "metadata": {
        "id": "cSZtzHBdcRDx"
      },
      "execution_count": null,
      "outputs": []
    },
    {
      "cell_type": "code",
      "source": [
        "predict_path3 = \"/content/drive/MyDrive/IE403/Model/Tranformer/BERT-base-uncased_upLR/predict_results_None.txt\"\n",
        "test_evaluate(predict_path3)"
      ],
      "metadata": {
        "id": "I2IpvmcIfQ9R"
      },
      "execution_count": null,
      "outputs": []
    },
    {
      "cell_type": "markdown",
      "source": [
        "#BERT-uncased"
      ],
      "metadata": {
        "id": "bbyhiYBkw_3k"
      }
    },
    {
      "cell_type": "code",
      "source": [
        "!python ./content/transformers/examples/pytorch/text-classification/run_glue.py \\\n",
        "  --model_name_or_path bert-base-uncased \\\n",
        "  --do_train \\\n",
        "  --do_eval \\\n",
        "  --do_predict \\\n",
        "  --max_seq_length 100 \\\n",
        "  --per_device_train_batch_size 16 \\\n",
        "  --num_train_epochs 5 \\\n",
        "  --learning_rate 5e-6 \\\n",
        "  --output_dir \"/content/drive/MyDrive/IE403/Model/Tranformer/BERT-base-uncased\" \\\n",
        "  --train_file \"/content/drive/MyDrive/IE403/Model/Tranformer/dataset/train.csv\" \\\n",
        "  --validation_file \"/content/drive/MyDrive/IE403/Model/Tranformer/dataset/dev.csv\" \\\n",
        "  --test_file \"/content/drive/MyDrive/IE403/Model/Tranformer/dataset/test.csv\" \\\n",
        "  --overwrite_output_dir \\\n",
        "  --overwrite_cache \\\n",
        "  --fp16 True \\\n",
        "  --warmup_ratio 0.1 \\\n",
        "  --logging_steps 50"
      ],
      "metadata": {
        "id": "wipzaXLzxC05"
      },
      "execution_count": null,
      "outputs": []
    },
    {
      "cell_type": "code",
      "source": [
        "predict_path6 = \"/content/drive/MyDrive/IE403/Model/Tranformer/BERT-base-uncased/predict_results_None.txt\"\n",
        "test_evaluate(predict_path6)"
      ],
      "metadata": {
        "id": "Oh4eQsK2zSSt"
      },
      "execution_count": null,
      "outputs": []
    },
    {
      "cell_type": "markdown",
      "source": [
        "#PhoBERT-Large"
      ],
      "metadata": {
        "id": "hrP76xeApIYn"
      }
    },
    {
      "cell_type": "code",
      "source": [
        "!python ./content/transformers/examples/pytorch/text-classification/run_glue.py \\\n",
        "  --model_name_or_path vinai/phobert-large \\\n",
        "  --do_train \\\n",
        "  --do_eval \\\n",
        "  --do_predict \\\n",
        "  --max_seq_length 100 \\\n",
        "  --per_device_train_batch_size 16 \\\n",
        "  --num_train_epochs 5 \\\n",
        "  --learning_rate 5e-6 \\\n",
        "  --output_dir \"/content/drive/MyDrive/IE403/Model/Tranformer/PhoBERT-large\" \\\n",
        "  --train_file \"/content/drive/MyDrive/IE403/Model/Tranformer/dataset/train.csv\" \\\n",
        "  --validation_file \"/content/drive/MyDrive/IE403/Model/Tranformer/dataset/dev.csv\" \\\n",
        "  --test_file \"/content/drive/MyDrive/IE403/Model/Tranformer/dataset/test.csv\" \\\n",
        "  --overwrite_output_dir \\\n",
        "  --overwrite_cache \\\n",
        "  --fp16 True \\\n",
        "  --warmup_ratio 0.1 \\\n",
        "  --logging_steps 50"
      ],
      "metadata": {
        "id": "qSbYUnDCpgYG"
      },
      "execution_count": null,
      "outputs": []
    },
    {
      "cell_type": "code",
      "source": [
        "predict_path4 = \"/content/drive/MyDrive/IE403/Model/Tranformer/PhoBERT-large/predict_results_None.txt\"\n",
        "test_evaluate(predict_path4)"
      ],
      "metadata": {
        "id": "7_CZ_v46u86V"
      },
      "execution_count": null,
      "outputs": []
    },
    {
      "cell_type": "markdown",
      "source": [
        "#PhoBERT-base"
      ],
      "metadata": {
        "id": "o8xo2s4dvMH8"
      }
    },
    {
      "cell_type": "code",
      "source": [
        "!python ./content/transformers/examples/pytorch/text-classification/run_glue.py \\\n",
        "  --model_name_or_path vinai/phobert-base \\\n",
        "  --do_train \\\n",
        "  --do_eval \\\n",
        "  --do_predict \\\n",
        "  --max_seq_length 100 \\\n",
        "  --per_device_train_batch_size 16 \\\n",
        "  --num_train_epochs 5 \\\n",
        "  --learning_rate 5e-6 \\\n",
        "  --output_dir \"/content/drive/MyDrive/IE403/Model/Tranformer/PhoBERT-base\" \\\n",
        "  --train_file \"/content/drive/MyDrive/IE403/Model/Tranformer/dataset/train.csv\" \\\n",
        "  --validation_file \"/content/drive/MyDrive/IE403/Model/Tranformer/dataset/dev.csv\" \\\n",
        "  --test_file \"/content/drive/MyDrive/IE403/Model/Tranformer/dataset/test.csv\" \\\n",
        "  --overwrite_output_dir \\\n",
        "  --overwrite_cache \\\n",
        "  --fp16 True \\\n",
        "  --warmup_ratio 0.1 \\\n",
        "  --logging_steps 50"
      ],
      "metadata": {
        "id": "OAMv7VpJvKJ7"
      },
      "execution_count": null,
      "outputs": []
    },
    {
      "cell_type": "code",
      "source": [
        "predict_path5 = \"/content/drive/MyDrive/IE403/Model/Tranformer/PhoBERT-base/predict_results_None.txt\"\n",
        "test_evaluate(predict_path5)"
      ],
      "metadata": {
        "id": "CoWFTfWHw4lu"
      },
      "execution_count": null,
      "outputs": []
    }
  ],
  "metadata": {
    "accelerator": "GPU",
    "colab": {
      "gpuType": "T4",
      "provenance": [],
      "collapsed_sections": [
        "W24zc0eU6-Mn",
        "FLeT2aad7KNJ",
        "-Sz5pOKQPT57",
        "YhbUjotGcU7I",
        "bbyhiYBkw_3k",
        "hrP76xeApIYn",
        "o8xo2s4dvMH8"
      ]
    },
    "kernelspec": {
      "display_name": "Python 3",
      "name": "python3"
    },
    "language_info": {
      "name": "python"
    }
  },
  "nbformat": 4,
  "nbformat_minor": 0
}